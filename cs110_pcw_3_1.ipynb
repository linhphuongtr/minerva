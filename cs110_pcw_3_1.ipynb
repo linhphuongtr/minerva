{
 "cells": [
  {
   "cell_type": "markdown",
   "metadata": {
    "collapsed": false
   },
   "source": [
    "Before you turn this problem in, make sure everything runs as expected. First, **restart the kernel** (in the menubar, select Kernel$\\rightarrow$Restart) and then **run all cells** (in the menubar, select Cell$\\rightarrow$Run All).\n",
    "\n",
    "Make sure you fill in any place that says `YOUR CODE HERE` or \"YOUR ANSWER HERE\", as well as your name and collaborators below:"
   ]
  },
  {
   "cell_type": "code",
   "execution_count": 0,
   "metadata": {
    "collapsed": false
   },
   "outputs": [
   ],
   "source": [
    "NAME = \"Linh Phuong Truong\"\n",
    "COLLABORATORS = \"\""
   ]
  },
  {
   "cell_type": "markdown",
   "metadata": {
    "collapsed": false
   },
   "source": [
    "---"
   ]
  },
  {
   "cell_type": "markdown",
   "metadata": {
    "collapsed": false,
    "deletable": false,
    "editable": false,
    "nbgrader": {
     "checksum": "6eb33d4bbb91bdad042e00eb02fae1ad",
     "grade": false,
     "grade_id": "cell-f941f4ddd5e342f7",
     "locked": true,
     "schema_version": 1,
     "solution": false
    }
   },
   "source": [
    "# CS110 Pre-class Work 3.1\n",
    "\n",
    "## Question 1. \n",
    "Paste in your Python implementation of the maximum subarray from the previous class in the cell below and use that to find out the value of the maximum subarray of this array: `A = [-2, -3, 4, -1, -2, 1]`"
   ]
  },
  {
   "cell_type": "code",
   "execution_count": 2,
   "metadata": {
    "collapsed": false,
    "deletable": false,
    "nbgrader": {
     "checksum": "6c4991e90ad8cdfb8cf42529b7e5edd6",
     "grade": true,
     "grade_id": "cell-e69c8bbcd40ca242",
     "locked": false,
     "points": 0,
     "schema_version": 1,
     "solution": true
    }
   },
   "outputs": [
    {
     "data": {
      "text/plain": [
       "4"
      ]
     },
     "execution_count": 2,
     "metadata": {
     },
     "output_type": "execute_result"
    }
   ],
   "source": [
    "def bruteforce_max_subarray(A):\n",
    "    maximum = 0\n",
    "    for i in range(1, len(A)):\n",
    "        for j in range(i, len(A)):\n",
    "            current_sum = 0\n",
    "            for k in range(i, j):\n",
    "                current_sum += A[k]\n",
    "            maximum = max(maximum, current_sum)\n",
    "    return maximum\n",
    "A = [-2,-3,4,-1,-2,1]\n",
    "bruteforce_max_subarray(A)\n"
   ]
  },
  {
   "cell_type": "markdown",
   "metadata": {
    "collapsed": false,
    "deletable": false,
    "editable": false,
    "nbgrader": {
     "checksum": "676f4558ca97298a50665d2b57563a54",
     "grade": false,
     "grade_id": "cell-6b2d39096ef80c67",
     "locked": true,
     "schema_version": 1,
     "solution": false
    }
   },
   "source": [
    "## Question 2. \n",
    "Now, your friend Joe comes and appends a single extra number at the end of the array, which becomes:  `B = [-2, -3, 4, -1, -2, 1, 8]`. Do you have to re-run the entire maximum subarray again? Explain your answer. \n",
    "The subsequent questions will help you figure out an efficient algorithmic strategy to address the last question, but make sure to write your explanation above first, before answering the remaining questions.\n"
   ]
  },
  {
   "cell_type": "markdown",
   "metadata": {
    "collapsed": false,
    "deletable": false,
    "nbgrader": {
     "checksum": "b848c0f0fa07252cc99055a801b12e47",
     "grade": true,
     "grade_id": "cell-d4b7cd845c816263",
     "locked": false,
     "points": 0,
     "schema_version": 1,
     "solution": true
    }
   },
   "source": [
    "With the previous code, I will have to run the entire algorithm again if a number is added into the list. This is because the previous algorithm disregards the previous effort made to find the maximum subarrays, thus if there is a new element, the whole process needs to be carried out again to find the maximum subarray."
   ]
  },
  {
   "cell_type": "markdown",
   "metadata": {
    "collapsed": false,
    "deletable": false,
    "editable": false,
    "nbgrader": {
     "checksum": "055be509a3fd9e61e64a6572949aa994",
     "grade": false,
     "grade_id": "cell-7280eecbaa455be1",
     "locked": true,
     "schema_version": 1,
     "solution": false
    }
   },
   "source": [
    "## Question 3. \n",
    "\n",
    "**Determine if the following statement is True or False and explain your answer.**\n",
    "If the maximum subarray of the array A is different than the maximum subarray of the array B (questions 1 and 2), the new maximum-subarray doesn’t need to include 8 (i.e., the newly appended element). \n"
   ]
  },
  {
   "cell_type": "markdown",
   "metadata": {
    "collapsed": false,
    "deletable": false,
    "nbgrader": {
     "checksum": "2b29f3c119737d73a7578e00d43972a4",
     "grade": true,
     "grade_id": "cell-9377964a8756f13b",
     "locked": false,
     "points": 0,
     "schema_version": 1,
     "solution": true
    }
   },
   "source": [
    "False. If the max subarray is different when a new element is introduced, the chances are that the new max subarray has the newly apprehended element."
   ]
  },
  {
   "cell_type": "markdown",
   "metadata": {
    "collapsed": false,
    "deletable": false,
    "editable": false,
    "nbgrader": {
     "checksum": "461bf61cb22c2304f3988c6f34a901e8",
     "grade": false,
     "grade_id": "cell-e7cc711ccdade69f",
     "locked": true,
     "schema_version": 1,
     "solution": false
    }
   },
   "source": [
    "## Question 4.\n",
    "Complete the Python function `incremental_max_subarray(x, mx)` in the cell below.\n",
    "\n",
    "This [video](https://www.youtube.com/watch?v=AAgErqQmwmA&list=PLF_a-qBXTGFektoI6JUOTRL36JlvD04BR&index=4&t=0s)  might be helpful to understand the `incremental_max_subarray` problem."
   ]
  },
  {
   "cell_type": "code",
   "execution_count": 4,
   "metadata": {
    "collapsed": false,
    "deletable": false,
    "nbgrader": {
     "checksum": "ac3f0799ce4ff7159403a97b99cbb5bd",
     "grade": false,
     "grade_id": "cell-0230e459f3d701f8",
     "locked": false,
     "schema_version": 1,
     "solution": true
    }
   },
   "outputs": [
   ],
   "source": [
    "def bruteforce_max_subarray(A):\n",
    "    maximum = 0\n",
    "    for i in range(1, len(A)):\n",
    "        for j in range(i, len(A)):\n",
    "            current_sum = 0\n",
    "            for k in range(i, j):\n",
    "                current_sum += A[k]\n",
    "            maximum = max(maximum, current_sum)\n",
    "    return maximum\n",
    "def incremental_max_subarray(x, mx):\n",
    "    \"\"\" \n",
    "    Inputs:\n",
    "    - x: a NON-EMPTY list of numbers (e.g., the array B in the first two questions above). \n",
    "        * If x has 1 element: returns the value of the element regardless of the value of mx\n",
    "    - mx: the maximum subarray of x excluding its last element (i.e., compute the \n",
    "    maximum subarray of the input array x considering only its first len(x) - 1 elements)\n",
    "    \n",
    "    Output: The maximum subarray of the array x.\n",
    "    \n",
    "    For example, using the array B in question 2, the result of incremental_max_subarray(B, 4) \n",
    "    is 10 (10 = 8 + 1 - 2 -1 + 4). \n",
    "    \"\"\"\n",
    "    # YOUR CODE HERE\n",
    "    if len(x)==1:\n",
    "        return x\n",
    "    else:\n",
    "        \n",
    "        #x is an array of integers\n",
    "        #mx is the value of the maximum subarray of x[0:-1] which then returns the max_subarray of the entire list\n",
    "        #function output is the maximum sum of the subarray\n",
    "        max_sum = 0\n",
    "        s = 0\n",
    "        if x[-1] <= 0:\n",
    "            max_sum = mx #if the last item is smaller or equal to 0, the maximum subarray will remain the same.\n",
    "        else:\n",
    "            i = 0\n",
    "            for i in range(len(x)):\n",
    "                m = len(x) - i -1\n",
    "                s = s + x[m]\n",
    "                if s > mx:\n",
    "                    max_sum = s\n",
    "    return max_sum\n",
    "    raise NotImplementedError()"
   ]
  },
  {
   "cell_type": "code",
   "execution_count": 5,
   "metadata": {
    "collapsed": false,
    "deletable": false,
    "editable": false,
    "nbgrader": {
     "checksum": "70a3880be02d6f703dfa95229957e71f",
     "grade": true,
     "grade_id": "cell-9abf19e56620ffa3",
     "locked": true,
     "points": 1,
     "schema_version": 1,
     "solution": false
    }
   },
   "outputs": [
    {
     "ename": "AssertionError",
     "evalue": "",
     "output_type": "error",
     "traceback": [
      "\u001b[0;31m---------------------------------------------------------------------------\u001b[0m",
      "\u001b[0;31mAssertionError\u001b[0m                            Traceback (most recent call last)",
      "\u001b[0;32m<ipython-input-5-2256e7bbc067>\u001b[0m in \u001b[0;36m<module>\u001b[0;34m\u001b[0m\n\u001b[1;32m      1\u001b[0m \u001b[0mB\u001b[0m \u001b[0;34m=\u001b[0m \u001b[0;34m[\u001b[0m\u001b[0;34m-\u001b[0m\u001b[0;36m2\u001b[0m\u001b[0;34m,\u001b[0m \u001b[0;34m-\u001b[0m\u001b[0;36m3\u001b[0m\u001b[0;34m,\u001b[0m \u001b[0;36m4\u001b[0m\u001b[0;34m,\u001b[0m \u001b[0;34m-\u001b[0m\u001b[0;36m1\u001b[0m\u001b[0;34m,\u001b[0m \u001b[0;34m-\u001b[0m\u001b[0;36m2\u001b[0m\u001b[0;34m,\u001b[0m \u001b[0;36m1\u001b[0m\u001b[0;34m,\u001b[0m \u001b[0;36m8\u001b[0m\u001b[0;34m]\u001b[0m\u001b[0;34m\u001b[0m\u001b[0;34m\u001b[0m\u001b[0m\n\u001b[0;32m----> 2\u001b[0;31m \u001b[0;32massert\u001b[0m\u001b[0;34m(\u001b[0m\u001b[0mincremental_max_subarray\u001b[0m\u001b[0;34m(\u001b[0m\u001b[0mB\u001b[0m\u001b[0;34m,\u001b[0m \u001b[0;36m4\u001b[0m\u001b[0;34m)\u001b[0m \u001b[0;34m==\u001b[0m \u001b[0;36m10\u001b[0m\u001b[0;34m)\u001b[0m\u001b[0;34m\u001b[0m\u001b[0;34m\u001b[0m\u001b[0m\n\u001b[0m\u001b[1;32m      3\u001b[0m \u001b[0;32massert\u001b[0m\u001b[0;34m(\u001b[0m\u001b[0mincremental_max_subarray\u001b[0m\u001b[0;34m(\u001b[0m\u001b[0mB\u001b[0m\u001b[0;34m[\u001b[0m\u001b[0;34m:\u001b[0m\u001b[0;36m1\u001b[0m\u001b[0;34m]\u001b[0m\u001b[0;34m,\u001b[0m \u001b[0;36m0\u001b[0m\u001b[0;34m)\u001b[0m \u001b[0;34m==\u001b[0m \u001b[0mB\u001b[0m\u001b[0;34m[\u001b[0m\u001b[0;36m0\u001b[0m\u001b[0;34m]\u001b[0m\u001b[0;34m)\u001b[0m\u001b[0;34m\u001b[0m\u001b[0;34m\u001b[0m\u001b[0m\n",
      "\u001b[0;31mAssertionError\u001b[0m: "
     ]
    }
   ],
   "source": [
    "B = [-2, -3, 4, -1, -2, 1, 8]\n",
    "assert(incremental_max_subarray(B, 4) == 10)\n",
    "assert(incremental_max_subarray(B[:1], 0) == B[0])"
   ]
  },
  {
   "cell_type": "markdown",
   "metadata": {
    "collapsed": false,
    "deletable": false,
    "nbgrader": {
     "checksum": "278d2e7036e916ce0fafffdd0c237584",
     "grade": true,
     "grade_id": "cell-bacebe71191cbd0f",
     "locked": false,
     "points": 0,
     "schema_version": 1,
     "solution": true
    }
   },
   "source": [
    "YOUR ANSWER HERE"
   ]
  },
  {
   "cell_type": "code",
   "execution_count": 0,
   "metadata": {
    "collapsed": false,
    "deletable": false,
    "nbgrader": {
     "checksum": "d9cdd0a60c40e487e87d79d21915e36b",
     "grade": false,
     "grade_id": "cell-fd96d4ccccd99fe6",
     "locked": false,
     "schema_version": 1,
     "solution": true
    }
   },
   "outputs": [
   ],
   "source": [
    "def max_subarray(A):\n",
    "    \"\"\"\n",
    "    Using `incremental_max_subarray` iteratively on A to produce the value of the maximum\n",
    "    subarray of A.\n",
    "    \n",
    "    Inputs:\n",
    "    - A: a NON-EMPTY list of floats\n",
    "    \n",
    "    Outputs: flaot, the sum of the maximum subarray of A\n",
    "    \"\"\"\n",
    "    # YOUR CODE HERE\n",
    "    raise NotImplementedError()\n"
   ]
  },
  {
   "cell_type": "code",
   "execution_count": 0,
   "metadata": {
    "collapsed": false,
    "deletable": false,
    "editable": false,
    "nbgrader": {
     "checksum": "74149a9559625383203ec1320bff5558",
     "grade": true,
     "grade_id": "cell-669ad779766aa2c3",
     "locked": true,
     "points": 1,
     "schema_version": 1,
     "solution": false
    }
   },
   "outputs": [
   ],
   "source": [
    "# Please ignore this cell. This cell is for us to implement the tests \n",
    "# to see if your code works properly. "
   ]
  },
  {
   "cell_type": "markdown",
   "metadata": {
    "collapsed": false,
    "deletable": false,
    "editable": false,
    "nbgrader": {
     "checksum": "03054d2ff22ec9310060ab534208ec0d",
     "grade": false,
     "grade_id": "cell-ae966fc92d098939",
     "locked": true,
     "schema_version": 1,
     "solution": false
    }
   },
   "source": [
    "### Part 2.\n",
    "Is this more efficient than the divide-and-conquer approach? Explain."
   ]
  },
  {
   "cell_type": "markdown",
   "metadata": {
    "collapsed": false,
    "deletable": false,
    "nbgrader": {
     "checksum": "69eb86a7f05367f6396017910664f67d",
     "grade": true,
     "grade_id": "cell-cd8f0b130a7136db",
     "locked": false,
     "points": 0,
     "schema_version": 1,
     "solution": true
    }
   },
   "source": [
    "YOUR ANSWER HERE"
   ]
  }
 ],
 "metadata": {
  "kernelspec": {
   "display_name": "Python 3 (system-wide)",
   "language": "python",
   "metadata": {
    "cocalc": {
     "description": "Python 3 programming language",
     "priority": 100,
     "url": "https://www.python.org/"
    }
   },
   "name": "python3"
  },
  "language_info": {
   "codemirror_mode": {
    "name": "ipython",
    "version": 3
   },
   "file_extension": ".py",
   "mimetype": "text/x-python",
   "name": "python",
   "nbconvert_exporter": "python",
   "pygments_lexer": "ipython3",
   "version": "3.6.8"
  }
 },
 "nbformat": 4,
 "nbformat_minor": 0
}