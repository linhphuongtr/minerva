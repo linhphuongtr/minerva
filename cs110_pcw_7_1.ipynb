{
 "cells": [
  {
   "cell_type": "markdown",
   "metadata": {},
   "source": [
    "Before you turn this problem in, make sure everything runs as expected. First, **restart the kernel** (in the menubar, select Kernel$\\rightarrow$Restart) and then **run all cells** (in the menubar, select Cell$\\rightarrow$Run All).\n",
    "\n",
    "Make sure you fill in any place that says `YOUR CODE HERE` or \"YOUR ANSWER HERE\", as well as your name and collaborators below:"
   ]
  },
  {
   "cell_type": "code",
   "execution_count": null,
   "metadata": {},
   "outputs": [],
   "source": [
    "NAME = \"Linh Truong\"\n",
    "COLLABORATORS = \"Elena Cai\""
   ]
  },
  {
   "cell_type": "markdown",
   "metadata": {},
   "source": [
    "---"
   ]
  },
  {
   "cell_type": "markdown",
   "metadata": {
    "deletable": false,
    "editable": false,
    "nbgrader": {
     "checksum": "b829d01fa88366d60630dae1299fa764",
     "grade": false,
     "grade_id": "cell-d94cea4a211410ce",
     "locked": true,
     "schema_version": 1,
     "solution": false
    }
   },
   "source": [
    "# CS110 Pre-class Work 7.1\n",
    "\n",
    "## Part A. Median Heap (watch this [video explanation](https://www.youtube.com/watch?v=756_8C9YBZQ&list=PLF_a-qBXTGFektoI6JUOTRL36JlvD04BR&index=5&t=0s) or read this [description](https://stackoverflow.com/a/15319593/7946759))\n",
    "\n",
    "Throughout this pre-class work, please use the following definition of median: the median of a list of numbers is the one in the middle of the list when the list is ordered. When such the middle element can’t be determined (i.e., in a list of even length), the average of the two middle elements is the median. For example, 5 is the median of [-1,2,4,5,8,10,12], and (5+7)/2=6 is the median of [1,2,3,5,7,8,10,11].\n",
    "\n",
    "Using the idea from Lesson 3.2, we can use a pair of heaps to create a data structure which allows fast access to the median. Use the heapq module in python to create both a max-heap and a min-heap. Note that by default, the heapq module in python only creates min-heaps, but if we multiply elements by -1 when we store them, then we can also create max-heaps.\n",
    "\n",
    "\n",
    "## Question 1.\n",
    "Write a function `add_to_median_heap(minh, maxh, elem)`. It must accept a min heap, a max heap, and an element to add.\n"
   ]
  },
  {
   "cell_type": "code",
   "execution_count": 3,
   "metadata": {},
   "outputs": [],
   "source": [
    "import heapq\n",
    "\n",
    "def max_heapify(A):\n",
    "    A_negative = []\n",
    "    for i in A:\n",
    "        A_negative.append(-i)\n",
    "    A = []\n",
    "    heapq.heapify(A_negative)\n",
    "    for i in A_negative:\n",
    "        A.append(-i)\n",
    "    return(A)\n",
    "\n",
    "def min_heapify(A):\n",
    "    heapq.heapify(A)\n",
    "    return(A)"
   ]
  },
  {
   "cell_type": "code",
   "execution_count": 4,
   "metadata": {
    "deletable": false,
    "nbgrader": {
     "checksum": "3f8e0bb0de793ce786eba2f6715d69b3",
     "grade": false,
     "grade_id": "cell-50cb08de70712ee7",
     "locked": false,
     "schema_version": 1,
     "solution": true
    }
   },
   "outputs": [],
   "source": [
    "import heapq\n",
    "\n",
    "def add_to_median_heap(minh, maxh, elem):\n",
    "    \n",
    "    #determine the current median\n",
    "    if len(minh) > len(maxh):\n",
    "        median = minh[0]\n",
    "    elif len(minh) < len(maxh):\n",
    "        median = maxh[0]\n",
    "    elif len(minh) == len(maxh) and len(minh)!=0:\n",
    "        median = (minh[0]+maxh[0])/2\n",
    "    elif len(minh) == len(maxh) == 0:\n",
    "        median = 0\n",
    "    \n",
    "    #If the new element is greater than the current median, it goes to the min-heap. \n",
    "    if elem > median:\n",
    "        minh.append(elem)\n",
    "        minh = min_heapify(minh)\n",
    "        \n",
    "    #If it is less than the current median, it goes to the max heap.\n",
    "    if elem <= median:\n",
    "        maxh.append(elem)\n",
    "        maxh = max_heapify(maxh)\n",
    "        \n",
    "    #If imbalanced, put one element to the other list\n",
    "    if len(minh) > len(maxh)+1:\n",
    "        min_first = []\n",
    "        min_first.append(minh[0])\n",
    "        del minh[0]\n",
    "        maxh = min_first + maxh\n",
    "        \n",
    "    if len(maxh) > len(minh)+1:\n",
    "        max_first = []\n",
    "        max_first.append(maxh[0])\n",
    "        del maxh[0]\n",
    "        minh = max_first + minh\n",
    "    \n",
    "    return minh, maxh"
   ]
  },
  {
   "cell_type": "code",
   "execution_count": 5,
   "metadata": {},
   "outputs": [
    {
     "data": {
      "text/plain": [
       "([5, 7, 8, 9], [4, 2, 3, 3])"
      ]
     },
     "execution_count": 5,
     "metadata": {},
     "output_type": "execute_result"
    }
   ],
   "source": [
    "add_to_median_heap([7,8,9],[5,4,2,3],3)"
   ]
  },
  {
   "cell_type": "markdown",
   "metadata": {
    "deletable": false,
    "editable": false,
    "nbgrader": {
     "checksum": "47ae2ae64e7e5a094e32b8e29577ebd2",
     "grade": false,
     "grade_id": "cell-b62f7899e36af96f",
     "locked": true,
     "schema_version": 1,
     "solution": false
    }
   },
   "source": [
    "## Question 2\n",
    "Write a function `median(minh, maxh)`. It must return the median element.\n"
   ]
  },
  {
   "cell_type": "code",
   "execution_count": 6,
   "metadata": {
    "deletable": false,
    "nbgrader": {
     "checksum": "4fdb08f74f611846be80db8164227117",
     "grade": false,
     "grade_id": "cell-43ce866dd1dc2d5b",
     "locked": false,
     "schema_version": 1,
     "solution": true
    }
   },
   "outputs": [],
   "source": [
    "#return the median element of two heaps, with a maximum heap size difference of 1\n",
    "\n",
    "def median(minh, maxh):\n",
    "    if len(minh) > len(maxh):\n",
    "        median = minh[0]\n",
    "    elif len(minh) < len(maxh):\n",
    "        median = maxh[0]\n",
    "    elif len(minh) == len(maxh) and len(minh)!=0:\n",
    "        median = (minh[0]+maxh[0])/2\n",
    "    elif len(minh) == len(maxh) == 0:\n",
    "        median = 0\n",
    "    return median"
   ]
  },
  {
   "cell_type": "code",
   "execution_count": 7,
   "metadata": {},
   "outputs": [
    {
     "data": {
      "text/plain": [
       "5"
      ]
     },
     "execution_count": 7,
     "metadata": {},
     "output_type": "execute_result"
    }
   ],
   "source": [
    "median([7,8,9],[5,4,2,3])"
   ]
  },
  {
   "cell_type": "code",
   "execution_count": null,
   "metadata": {
    "deletable": false,
    "editable": false,
    "nbgrader": {
     "checksum": "9f79f245efea8c7b7d7c444af36ad997",
     "grade": true,
     "grade_id": "cell-673faa69bf330eda",
     "locked": true,
     "points": 0,
     "schema_version": 1,
     "solution": false
    }
   },
   "outputs": [],
   "source": [
    "# Please ignore this cell. This cell is for us to implement the tests \n",
    "# to see if your code works properly. "
   ]
  },
  {
   "cell_type": "markdown",
   "metadata": {
    "deletable": false,
    "editable": false,
    "nbgrader": {
     "checksum": "ea112ad1eac7cf41487236cf22381071",
     "grade": false,
     "grade_id": "cell-ec86b3a3c5adaedf",
     "locked": true,
     "schema_version": 1,
     "solution": false
    }
   },
   "source": [
    "## Question 3.\n",
    "\n",
    "Uncomment and run the testing code given below to test your functions. It should print out numbers ranging from 1 to 50, in that order."
   ]
  },
  {
   "cell_type": "code",
   "execution_count": null,
   "metadata": {},
   "outputs": [],
   "source": [
    "# minh = []\n",
    "# maxh = []\n",
    "# for a in range(1,100,2):\n",
    "#     add_to_median_heap(minh, maxh, a)\n",
    "#     print(median(minh, maxh))  "
   ]
  },
  {
   "cell_type": "code",
   "execution_count": 8,
   "metadata": {},
   "outputs": [
    {
     "name": "stdout",
     "output_type": "stream",
     "text": [
      "1\n",
      "2.0\n",
      "3\n",
      "4.0\n",
      "5\n",
      "6.0\n",
      "7\n",
      "8.0\n",
      "9\n",
      "10.0\n",
      "11\n",
      "12.0\n",
      "13\n",
      "14.0\n",
      "15\n",
      "16.0\n",
      "17\n",
      "18.0\n",
      "19\n",
      "20.0\n",
      "21\n",
      "22.0\n",
      "23\n",
      "24.0\n",
      "25\n",
      "26.0\n",
      "27\n",
      "28.0\n",
      "29\n",
      "30.0\n",
      "31\n",
      "32.0\n",
      "33\n",
      "34.0\n",
      "35\n",
      "36.0\n",
      "37\n",
      "38.0\n",
      "39\n",
      "40.0\n",
      "41\n",
      "42.0\n",
      "43\n",
      "44.0\n",
      "45\n",
      "46.0\n",
      "47\n",
      "48.0\n",
      "49\n",
      "50.0\n"
     ]
    }
   ],
   "source": [
    "minh = []\n",
    "maxh = []\n",
    "for a in range(1,100,2):\n",
    "    minh,maxh = add_to_median_heap(minh, maxh, a)\n",
    "    print(median(minh, maxh))  "
   ]
  },
  {
   "cell_type": "markdown",
   "metadata": {
    "deletable": false,
    "editable": false,
    "nbgrader": {
     "checksum": "be3a94b3063c99a265c7b868e45a5f69",
     "grade": false,
     "grade_id": "cell-11d4510a48c38394",
     "locked": true,
     "schema_version": 1,
     "solution": false
    }
   },
   "source": [
    "## Question 4.\n",
    "What’s the worst case complexity to build a median heap using `add_to_median_heap`?"
   ]
  },
  {
   "cell_type": "markdown",
   "metadata": {
    "deletable": false,
    "nbgrader": {
     "checksum": "4ddd5b5c6be74e7306bd08ee76a1b858",
     "grade": true,
     "grade_id": "cell-c8e33ebdc8aaf328",
     "locked": false,
     "points": 0,
     "schema_version": 1,
     "solution": true
    }
   },
   "source": [
    "Heapify has O(lg n). Worst case is when the new element is put into the heap, the other heap is still empty, thus the algorithm needs to heapify a list and move on element. Overall, a list of n would take O(nlogn)"
   ]
  },
  {
   "cell_type": "markdown",
   "metadata": {
    "deletable": false,
    "editable": false,
    "nbgrader": {
     "checksum": "8a1276ebbad9b1292badcb9090c8a910",
     "grade": false,
     "grade_id": "cell-dada08b7f913c96f",
     "locked": true,
     "schema_version": 1,
     "solution": false
    }
   },
   "source": [
    "## Question 5.\n",
    "What’s the worst case complexity of `median`?"
   ]
  },
  {
   "cell_type": "markdown",
   "metadata": {
    "deletable": false,
    "nbgrader": {
     "checksum": "7d67e5e84a28b798ba456d72603533f0",
     "grade": true,
     "grade_id": "cell-c061920faa337890",
     "locked": false,
     "points": 0,
     "schema_version": 1,
     "solution": true
    }
   },
   "source": [
    "I think it is O(n), when we need to heapify each small list. But if the inputed list is sorted then O(3)"
   ]
  },
  {
   "cell_type": "markdown",
   "metadata": {
    "deletable": false,
    "editable": false,
    "nbgrader": {
     "checksum": "73694bd23377143032d5224818a389b7",
     "grade": false,
     "grade_id": "cell-fcf89277dcd46cbe",
     "locked": true,
     "schema_version": 1,
     "solution": false
    }
   },
   "source": [
    "## Question 6.\n",
    "\n",
    "How does this way of finding the median compare with the vanilla way of sorting the list and pick the middle element? Use arguments based on efficiency or clearity of the respective algorithms."
   ]
  },
  {
   "cell_type": "markdown",
   "metadata": {
    "deletable": false,
    "nbgrader": {
     "checksum": "733fe35313ebf5888c622423bb7462b4",
     "grade": true,
     "grade_id": "cell-1f31afecda9730a7",
     "locked": false,
     "points": 0,
     "schema_version": 1,
     "solution": true
    }
   },
   "source": [
    "Depends on the sorting list algorithm we use, but the worst case of this algorithm is n log n which is not too bad."
   ]
  },
  {
   "cell_type": "markdown",
   "metadata": {
    "deletable": false,
    "editable": false,
    "nbgrader": {
     "checksum": "d4869e0b17f0248df4c3ae91668257e8",
     "grade": false,
     "grade_id": "cell-695c23986b831032",
     "locked": true,
     "schema_version": 1,
     "solution": false
    }
   },
   "source": [
    "## [Optional] Question 7.\n",
    "\n",
    "Is it possible to extend this idea to any percentile? If it is, then write code to do so. If it’s not possible, prove why it is not possible."
   ]
  },
  {
   "cell_type": "code",
   "execution_count": null,
   "metadata": {
    "deletable": false,
    "nbgrader": {
     "checksum": "c293e85a4cf43662dc635c9e0f511be4",
     "grade": true,
     "grade_id": "cell-4d0c197e6d484338",
     "locked": false,
     "points": 0,
     "schema_version": 1,
     "solution": true
    }
   },
   "outputs": [],
   "source": [
    "# YOUR CODE HERE\n",
    "raise NotImplementedError()"
   ]
  },
  {
   "cell_type": "markdown",
   "metadata": {
    "deletable": false,
    "editable": false,
    "nbgrader": {
     "checksum": "bd7ff85760b2e8303c3b4482b6ca44b2",
     "grade": false,
     "grade_id": "cell-3cba7ecc0de11f1b",
     "locked": true,
     "schema_version": 1,
     "solution": false
    }
   },
   "source": [
    "## Part B. Quickselect\n",
    "\n",
    "Quicksort can be modified to find the $k$-th smallest element in an unordered list. This is known as quickselect. It does this by choosing a partition (as in quicksort). Once the list has been partitioned then we know how many elements lie to the left and to the right of the partition. This allows us to recursively call quickselect on the correct sublist.\n",
    "\n",
    "## Question 1.\n",
    "\n",
    "Write a function `qselect(lst, k)`, which takes both a list and an index $k$. The function must then return the $k$-th smallest item in the list.\n"
   ]
  },
  {
   "cell_type": "code",
   "execution_count": 9,
   "metadata": {},
   "outputs": [],
   "source": [
    "import random\n",
    "\n",
    "def qselect(lst,k):\n",
    "    \n",
    "    partition = random.choice(lst)\n",
    "    \n",
    "    lower = [a for a in lst if a < partition] #elements smaller than the partition\n",
    "    len_l = len(lower)\n",
    "\n",
    "    middle = [a for a in lst if a == partition] #elements equal to the partition\n",
    "    len_m = len(middle)\n",
    "    \n",
    "    upper = [a for a in lst if a > partition] #elements greater than the partition\n",
    "    len_u = len(upper)\n",
    "    \n",
    "    #if k-th smallest is in lower\n",
    "    if k < len_l:\n",
    "        return qselect(lower,k)\n",
    "    \n",
    "    #if k-th smallest is in upper\n",
    "    elif k > len_l+len_m:\n",
    "        return qselect(upper,k-len_l-len_m)\n",
    "        \n",
    "    #if k-th smallest is the partition\n",
    "    else:\n",
    "        return(partition)"
   ]
  },
  {
   "cell_type": "code",
   "execution_count": 10,
   "metadata": {},
   "outputs": [
    {
     "data": {
      "text/plain": [
       "30"
      ]
     },
     "execution_count": 10,
     "metadata": {},
     "output_type": "execute_result"
    }
   ],
   "source": [
    "qselect([1,2,3,20,20,30,10,30,20],8)"
   ]
  },
  {
   "cell_type": "code",
   "execution_count": 13,
   "metadata": {
    "deletable": false,
    "nbgrader": {
     "checksum": "3714ebe85f9dbc77eb3bb3c106a009ea",
     "grade": false,
     "grade_id": "cell-fb9c2bc9d5b4bc92",
     "locked": false,
     "schema_version": 1,
     "solution": true
    }
   },
   "outputs": [
    {
     "ename": "SyntaxError",
     "evalue": "unexpected EOF while parsing (<ipython-input-13-dd00d98f476b>, line 2)",
     "output_type": "error",
     "traceback": [
      "\u001b[1;36m  File \u001b[1;32m\"<ipython-input-13-dd00d98f476b>\"\u001b[1;36m, line \u001b[1;32m2\u001b[0m\n\u001b[1;33m    # YOUR CODE HERE\u001b[0m\n\u001b[1;37m                    ^\u001b[0m\n\u001b[1;31mSyntaxError\u001b[0m\u001b[1;31m:\u001b[0m unexpected EOF while parsing\n"
     ]
    }
   ],
   "source": [
    "def qselect(lst,k):\n",
    "    # YOUR CODE HERE\n",
    "    raise NotImplementedError()"
   ]
  },
  {
   "cell_type": "code",
   "execution_count": 14,
   "metadata": {
    "deletable": false,
    "editable": false,
    "nbgrader": {
     "checksum": "5ee41421528107f7ae195a7197a5d6d9",
     "grade": true,
     "grade_id": "cell-85a25ed6a1f62a66",
     "locked": true,
     "points": 0,
     "schema_version": 1,
     "solution": false
    }
   },
   "outputs": [
    {
     "ename": "NotImplementedError",
     "evalue": "",
     "output_type": "error",
     "traceback": [
      "\u001b[1;31m---------------------------------------------------------------------------\u001b[0m",
      "\u001b[1;31mNotImplementedError\u001b[0m                       Traceback (most recent call last)",
      "\u001b[1;32m<ipython-input-14-253afcee666d>\u001b[0m in \u001b[0;36m<module>\u001b[1;34m\u001b[0m\n\u001b[0;32m      5\u001b[0m \u001b[0mlst2\u001b[0m \u001b[1;33m=\u001b[0m \u001b[1;33m[\u001b[0m\u001b[1;33m]\u001b[0m\u001b[1;33m\u001b[0m\u001b[1;33m\u001b[0m\u001b[0m\n\u001b[0;32m      6\u001b[0m \u001b[1;32mfor\u001b[0m \u001b[0ma\u001b[0m \u001b[1;32min\u001b[0m \u001b[0mrange\u001b[0m\u001b[1;33m(\u001b[0m\u001b[1;36m100\u001b[0m\u001b[1;33m)\u001b[0m\u001b[1;33m:\u001b[0m\u001b[1;33m\u001b[0m\u001b[1;33m\u001b[0m\u001b[0m\n\u001b[1;32m----> 7\u001b[1;33m     \u001b[0mlst2\u001b[0m\u001b[1;33m.\u001b[0m\u001b[0mappend\u001b[0m\u001b[1;33m(\u001b[0m\u001b[0mqselect\u001b[0m\u001b[1;33m(\u001b[0m\u001b[0mlst1\u001b[0m\u001b[1;33m,\u001b[0m \u001b[0ma\u001b[0m\u001b[1;33m)\u001b[0m\u001b[1;33m)\u001b[0m\u001b[1;33m\u001b[0m\u001b[1;33m\u001b[0m\u001b[0m\n\u001b[0m\u001b[0;32m      8\u001b[0m \u001b[1;32massert\u001b[0m\u001b[1;33m(\u001b[0m\u001b[0mlst2\u001b[0m \u001b[1;33m==\u001b[0m \u001b[0mlist\u001b[0m\u001b[1;33m(\u001b[0m\u001b[0mrange\u001b[0m\u001b[1;33m(\u001b[0m\u001b[1;36m100\u001b[0m\u001b[1;33m)\u001b[0m\u001b[1;33m)\u001b[0m\u001b[1;33m)\u001b[0m\u001b[1;33m\u001b[0m\u001b[1;33m\u001b[0m\u001b[0m\n",
      "\u001b[1;32m<ipython-input-11-1190b9902ffb>\u001b[0m in \u001b[0;36mqselect\u001b[1;34m(lst, k)\u001b[0m\n\u001b[0;32m      1\u001b[0m \u001b[1;32mdef\u001b[0m \u001b[0mqselect\u001b[0m\u001b[1;33m(\u001b[0m\u001b[0mlst\u001b[0m\u001b[1;33m,\u001b[0m\u001b[0mk\u001b[0m\u001b[1;33m)\u001b[0m\u001b[1;33m:\u001b[0m\u001b[1;33m\u001b[0m\u001b[1;33m\u001b[0m\u001b[0m\n\u001b[0;32m      2\u001b[0m     \u001b[1;31m# YOUR CODE HERE\u001b[0m\u001b[1;33m\u001b[0m\u001b[1;33m\u001b[0m\u001b[1;33m\u001b[0m\u001b[0m\n\u001b[1;32m----> 3\u001b[1;33m     \u001b[1;32mraise\u001b[0m \u001b[0mNotImplementedError\u001b[0m\u001b[1;33m(\u001b[0m\u001b[1;33m)\u001b[0m\u001b[1;33m\u001b[0m\u001b[1;33m\u001b[0m\u001b[0m\n\u001b[0m",
      "\u001b[1;31mNotImplementedError\u001b[0m: "
     ]
    }
   ],
   "source": [
    "import random\n",
    "random.seed(123) # introducing a seed for reproducibility purposes\n",
    "lst1 = list(range(100))\n",
    "random.shuffle(lst1)\n",
    "lst2 = []\n",
    "for a in range(100):\n",
    "    lst2.append(qselect(lst1, a))\n",
    "assert(lst2 == list(range(100)))"
   ]
  },
  {
   "cell_type": "markdown",
   "metadata": {
    "deletable": false,
    "editable": false,
    "nbgrader": {
     "checksum": "54fddc25ea0529f44aa6653b18ff7745",
     "grade": false,
     "grade_id": "cell-8013044acd03642a",
     "locked": true,
     "schema_version": 1,
     "solution": false
    }
   },
   "source": [
    "## Question 2.\n",
    "Uncomment and run the testing code given below to test your function. It should print out integers from 0 to 99.\n"
   ]
  },
  {
   "cell_type": "code",
   "execution_count": 373,
   "metadata": {},
   "outputs": [
    {
     "name": "stdout",
     "output_type": "stream",
     "text": [
      "0\n",
      "1\n",
      "2\n",
      "2\n",
      "3\n",
      "4\n",
      "5\n",
      "6\n",
      "7\n",
      "8\n",
      "9\n",
      "11\n",
      "12\n",
      "13\n",
      "13\n",
      "14\n",
      "16\n",
      "16\n",
      "18\n",
      "19\n",
      "19\n",
      "20\n",
      "21\n",
      "23\n",
      "23\n",
      "25\n",
      "26\n",
      "26\n",
      "27\n",
      "29\n",
      "29\n",
      "31\n",
      "31\n",
      "33\n",
      "33\n",
      "35\n",
      "35\n",
      "36\n",
      "37\n",
      "39\n",
      "39\n",
      "40\n",
      "42\n",
      "43\n",
      "44\n",
      "45\n",
      "46\n",
      "46\n",
      "47\n",
      "48\n",
      "50\n",
      "51\n",
      "52\n",
      "52\n",
      "54\n",
      "54\n",
      "55\n",
      "56\n",
      "58\n",
      "59\n",
      "59\n",
      "60\n",
      "61\n",
      "63\n",
      "64\n",
      "65\n",
      "65\n",
      "66\n",
      "68\n",
      "68\n",
      "70\n",
      "71\n",
      "71\n",
      "72\n",
      "74\n",
      "74\n",
      "75\n",
      "77\n",
      "78\n",
      "79\n",
      "80\n",
      "81\n",
      "82\n",
      "82\n",
      "84\n",
      "84\n",
      "85\n",
      "87\n",
      "87\n",
      "89\n",
      "89\n",
      "90\n",
      "91\n",
      "93\n",
      "94\n",
      "94\n",
      "96\n",
      "96\n",
      "98\n",
      "99\n"
     ]
    }
   ],
   "source": [
    "import random\n",
    "random.seed(123) # introducing a seed for reproducibility purposes\n",
    "lst = list(range(100))\n",
    "random.shuffle(lst)\n",
    "for a in range(100):\n",
    "     print(qselect(lst, a))\n"
   ]
  },
  {
   "cell_type": "markdown",
   "metadata": {
    "deletable": false,
    "editable": false,
    "nbgrader": {
     "checksum": "3fede812466807c2a250ab3c6427f75c",
     "grade": false,
     "grade_id": "cell-e7a965de7bb56aa3",
     "locked": true,
     "schema_version": 1,
     "solution": false
    }
   },
   "source": [
    "## Question 3.\n",
    "\n",
    "Write down the recurrence relation for your code."
   ]
  },
  {
   "cell_type": "markdown",
   "metadata": {
    "deletable": false,
    "nbgrader": {
     "checksum": "6fb3d2481f5df1b96c902e5446844f87",
     "grade": true,
     "grade_id": "cell-24144607b3ffade3",
     "locked": false,
     "points": 0,
     "schema_version": 1,
     "solution": true
    }
   },
   "source": [
    "T(n) = T(n/2) + c"
   ]
  },
  {
   "cell_type": "markdown",
   "metadata": {
    "deletable": false,
    "editable": false,
    "nbgrader": {
     "checksum": "311ee23a32dbc3ba43d3bba0d433871b",
     "grade": false,
     "grade_id": "cell-fd740516f4259f3c",
     "locked": true,
     "schema_version": 1,
     "solution": false
    }
   },
   "source": [
    "## Question 4.\n",
    "\n",
    "Solve the recurrence relation for quickselect in the best case.\n"
   ]
  },
  {
   "cell_type": "markdown",
   "metadata": {
    "deletable": false,
    "nbgrader": {
     "checksum": "78416da569a0269f78967b11d7b93332",
     "grade": true,
     "grade_id": "cell-c125f4742933e820",
     "locked": false,
     "points": 0,
     "schema_version": 1,
     "solution": true
    }
   },
   "source": [
    "Best case O(1). This is when the first step returns the index. \n"
   ]
  },
  {
   "cell_type": "markdown",
   "metadata": {
    "deletable": false,
    "editable": false,
    "nbgrader": {
     "checksum": "7cc9c5e0531e8ece71be2ff60ee65995",
     "grade": false,
     "grade_id": "cell-e281cecc190fd662",
     "locked": true,
     "schema_version": 1,
     "solution": false
    }
   },
   "source": [
    "## Question 5.\n",
    "\n",
    "Solve the recurrence relation for quickselect in the worst case."
   ]
  },
  {
   "cell_type": "markdown",
   "metadata": {
    "deletable": false,
    "nbgrader": {
     "checksum": "f4cceeaea59e48c3fabdb8d19e302db5",
     "grade": true,
     "grade_id": "cell-852c3a71d8c2d7c1",
     "locked": false,
     "points": 0,
     "schema_version": 1,
     "solution": true
    }
   },
   "source": [
    "O(n^2) When each step only delete one element of the list. It would take n steps in total. With each step n.  \n"
   ]
  }
 ],
 "metadata": {
  "kernelspec": {
   "display_name": "Python 3",
   "language": "python",
   "name": "python3"
  },
  "language_info": {
   "codemirror_mode": {
    "name": "ipython",
    "version": 3
   },
   "file_extension": ".py",
   "mimetype": "text/x-python",
   "name": "python",
   "nbconvert_exporter": "python",
   "pygments_lexer": "ipython3",
   "version": "3.7.3"
  }
 },
 "nbformat": 4,
 "nbformat_minor": 2
}
